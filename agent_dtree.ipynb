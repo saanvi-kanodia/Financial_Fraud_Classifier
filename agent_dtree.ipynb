{
 "cells": [
  {
   "cell_type": "markdown",
   "id": "22cd064d",
   "metadata": {},
   "source": [
    "## Financial Fraud Detection Agentic Ai\n",
    "\n",
    "\n",
    "* This code is a part of a machine learning pipeline that processes a dataset, performs exploratory data analysis (EDA), trains a decision tree classifier, makes predictions, evaluates the model, and suggests improvements if necessary.\n",
    "\n",
    "* It uses the LangGraph library to define a state graph for the pipeline, with each step represented as a node in the graph.\n",
    "* The pipeline starts by ingesting a dataset, followed by EDA, training the model, making predictions, evaluating the model's performance, and finally checking if retraining is needed based on the accuracy of the model.\n",
    "* The final state of the pipeline is returned after invoking the pipeline with the initial state."
   ]
  },
  {
   "cell_type": "code",
   "execution_count": 59,
   "id": "4ac3b3da",
   "metadata": {},
   "outputs": [],
   "source": [
    "from langgraph.graph import StateGraph, START\n",
    "import matplotlib.pyplot as plt\n",
    "import seaborn as sns\n",
    "import pandas as pd\n",
    "from sklearn.model_selection import train_test_split\n",
    "from sklearn.tree import DecisionTreeClassifier\n",
    "from sklearn.metrics import confusion_matrix, classification_report\n",
    "import matplotlib.pyplot as plt\n",
    "import seaborn as sns"
   ]
  },
  {
   "cell_type": "code",
   "execution_count": 60,
   "id": "2062dfa2",
   "metadata": {},
   "outputs": [],
   "source": [
    "import numpy as np"
   ]
  },
  {
   "cell_type": "code",
   "execution_count": 61,
   "id": "7cf8b792",
   "metadata": {},
   "outputs": [],
   "source": [
    "from typing import TypedDict, Optional\n",
    "from langgraph.graph import StateGraph\n",
    "\n",
    "class AgentState(TypedDict, total=False):\n",
    "    filepath: str\n",
    "    df: pd.DataFrame\n",
    "    model: DecisionTreeClassifier\n",
    "    X_test: pd.DataFrame\n",
    "    y_test: pd.Series\n",
    "    predictions: list\n",
    "    report: dict\n",
    "    retrain: bool\n",
    "    loop_count: Optional[int]\n",
    "    eda_done : bool\n",
    "\n",
    "\n",
    "graph = StateGraph(AgentState)"
   ]
  },
  {
   "cell_type": "code",
   "execution_count": 62,
   "id": "223aeacf",
   "metadata": {},
   "outputs": [],
   "source": [
    "#Initial State\n",
    "initial_state = {\n",
    "    \"filepath\": \"PS_20174392719_1491204439457_log.csv\"  # Change this to your dataset path\n",
    "}"
   ]
  },
  {
   "cell_type": "markdown",
   "id": "737d2fa0",
   "metadata": {},
   "source": [
    "### 1. Ingestion Agent"
   ]
  },
  {
   "cell_type": "code",
   "execution_count": 63,
   "id": "7ad149c1",
   "metadata": {},
   "outputs": [],
   "source": [
    "def ingest_agent(state: AgentState):\n",
    "    df = pd.read_csv(state[\"filepath\"])\n",
    "    state[\"df\"] = df\n",
    "    return state"
   ]
  },
  {
   "cell_type": "markdown",
   "id": "8d859cbe",
   "metadata": {},
   "source": [
    "### 2. EDA Agent"
   ]
  },
  {
   "cell_type": "code",
   "execution_count": 64,
   "id": "d69e811b",
   "metadata": {},
   "outputs": [],
   "source": [
    "def eda_agent(state: AgentState):\n",
    "    df = state[\"df\"]\n",
    "    plt.figure(figsize=(6,6))\n",
    "    type_counts = df['type'].value_counts()\n",
    "    plt.pie(type_counts, labels=type_counts.index, autopct='%1.1f%%')\n",
    "    plt.title(\"Transaction Type Distribution\")\n",
    "    plt.show()\n",
    "\n",
    "    plt.figure(figsize=(6,6))\n",
    "    is_fraud_counts = df['isFraud'].value_counts()\n",
    "    labels = [f\"{'Non-Fraud' if label == 0 else 'Fraud'} ({count})\" for label, count in is_fraud_counts.items()]\n",
    "    plt.pie(is_fraud_counts, labels=labels, autopct='%1.1f%%')\n",
    "    plt.title(\"Fraudulent Transaction Distribution\")\n",
    "    plt.show()\n",
    "\n",
    "    state[\"eda_done\"] = True\n",
    "    return state"
   ]
  },
  {
   "cell_type": "markdown",
   "id": "45a25d43",
   "metadata": {},
   "source": [
    "### 3. Model trainer Agent"
   ]
  },
  {
   "cell_type": "code",
   "execution_count": 65,
   "id": "d4a5ae3e",
   "metadata": {},
   "outputs": [],
   "source": [
    "from sklearn.model_selection import GridSearchCV, RandomizedSearchCV\n",
    "from sklearn.tree import DecisionTreeClassifier\n",
    "from sklearn.metrics import precision_score, recall_score, f1_score, roc_auc_score\n",
    "import numpy as np"
   ]
  },
  {
   "cell_type": "code",
   "execution_count": 66,
   "id": "016a7990",
   "metadata": {},
   "outputs": [],
   "source": [
    "def train_agent(state: AgentState):\n",
    "    df = state[\"df\"].copy()\n",
    "    df[\"isFraud\"] = df[\"isFraud\"].astype(int)\n",
    "    X = df[[\"amount\", \"oldbalanceOrg\", \"newbalanceOrig\", \"oldbalanceDest\", \"newbalanceDest\"]]\n",
    "    y = df[\"isFraud\"]\n",
    "    X_train, X_test, y_train, y_test = train_test_split(X, y, test_size=0.2, random_state=42)\n",
    "\n",
    "    # Define a smaller parameter grid\n",
    "    param_grid = {\n",
    "        'max_depth': [5, 10, 15],  # Reduced values\n",
    "        'min_samples_split': [2, 4, 6],  # Reduced values\n",
    "        'min_samples_leaf': [1, 2, 4]  # Reduced values\n",
    "    }\n",
    "\n",
    "    # Create a Decision Tree Classifier\n",
    "    dtree = DecisionTreeClassifier(random_state=42, class_weight='balanced')\n",
    "\n",
    "    # Use RandomizedSearchCV to find the best hyperparameters\n",
    "    random_search = RandomizedSearchCV(dtree, param_grid, cv=2, scoring='average_precision', n_iter=5)  # Reduced cv and n_iter\n",
    "    random_search.fit(X_train, y_train)\n",
    "\n",
    "    # Get the best estimator\n",
    "    best_clf = random_search.best_estimator_\n",
    "\n",
    "    state.update({\n",
    "        \"model\": best_clf,\n",
    "        \"X_test\": X_test,\n",
    "        \"y_test\": y_test,\n",
    "        \"trained\": True\n",
    "    })\n",
    "\n",
    "    print(\"Model trained successfully.\")\n",
    "    return state"
   ]
  },
  {
   "cell_type": "markdown",
   "id": "9da6dc43",
   "metadata": {},
   "source": [
    "### 4. Predictor Agent"
   ]
  },
  {
   "cell_type": "code",
   "execution_count": 67,
   "id": "a0600b19",
   "metadata": {},
   "outputs": [],
   "source": [
    "def predict_agent(state: AgentState):\n",
    "    clf = state[\"model\"]\n",
    "    X_test = state[\"X_test\"]\n",
    "    predictions = clf.predict(X_test)\n",
    "\n",
    "    state[\"predictions\"] = predictions\n",
    "    print(\"Predictions made successfully.\")\n",
    "    return state"
   ]
  },
  {
   "cell_type": "markdown",
   "id": "34c6fafb",
   "metadata": {},
   "source": [
    "### 5. Evaluator Agent"
   ]
  },
  {
   "cell_type": "code",
   "execution_count": 68,
   "id": "0ff1fbf0",
   "metadata": {},
   "outputs": [],
   "source": [
    "def evaluation_agent(state: AgentState):\n",
    "    y_true = state[\"y_test\"]\n",
    "    y_pred = state[\"predictions\"]\n",
    "\n",
    "    cm = confusion_matrix(y_true, y_pred)\n",
    "    cm_df = pd.DataFrame(cm, index=[\"Actual non-fraud\", \"Actual fraud\"], columns=[\"Predicted non-fraud\", \"Predicted fraud\"])\n",
    "\n",
    "    report = classification_report(y_true, y_pred, output_dict=True)\n",
    "\n",
    "    # Calculate additional metrics\n",
    "    precision = precision_score(y_true, y_pred)\n",
    "    recall = recall_score(y_true, y_pred)\n",
    "    f1 = f1_score(y_true, y_pred)\n",
    "    auc = roc_auc_score(y_true, y_pred)\n",
    "\n",
    "    plt.figure(figsize=(6,5))\n",
    "    sns.heatmap(cm_df, annot=True, fmt='d', cmap='Blues')\n",
    "    plt.title(\"Confusion Matrix\")\n",
    "    plt.xlabel(\"Predicted\")\n",
    "    plt.ylabel(\"Actual\")\n",
    "    plt.show()\n",
    "    plt.savefig(\"confusion_matrix.png\")\n",
    "\n",
    "    print(\"Accuracy:\", report[\"accuracy\"])\n",
    "    print(\"Precision:\", precision)\n",
    "    print(\"Recall:\", recall)\n",
    "    print(\"F1-score:\", f1)\n",
    "    print(\"AUC:\", auc)\n",
    "\n",
    "    state[\"report\"] = report\n",
    "    state[\"precision\"] = precision\n",
    "    state[\"recall\"] = recall\n",
    "    state[\"f1\"] = f1\n",
    "    state[\"auc\"] = auc\n",
    "    return state"
   ]
  },
  {
   "cell_type": "markdown",
   "id": "186b27c5",
   "metadata": {},
   "source": [
    "### 6. Improver Agent"
   ]
  },
  {
   "cell_type": "code",
   "execution_count": 69,
   "id": "bcb431b9",
   "metadata": {},
   "outputs": [],
   "source": [
    "def improver_agent(state: AgentState):\n",
    "    acc = state[\"report\"][\"accuracy\"]\n",
    "    loop_count = state.get(\"loop_count\", 0)\n",
    "    \n",
    "    if acc < 0.9999 and loop_count < 2:\n",
    "        print(\"Retraining suggested due to accuracy below 99.99%\")\n",
    "        state[\"retrain\"] = True\n",
    "        state[\"loop_count\"] = loop_count + 1\n",
    "    else:\n",
    "        print(\"Model training complete - either accuracy is satisfactory or max retraining reached\")\n",
    "        state[\"retrain\"] = False\n",
    "    return state"
   ]
  },
  {
   "cell_type": "code",
   "execution_count": 70,
   "id": "9f6c0f28",
   "metadata": {},
   "outputs": [],
   "source": [
    "def exit_agent(state: AgentState):\n",
    "    print(\"Pipeline complete\")\n",
    "    return state"
   ]
  },
  {
   "cell_type": "code",
   "execution_count": 71,
   "id": "f6e38b99",
   "metadata": {},
   "outputs": [],
   "source": [
    "graph = StateGraph(AgentState)\n",
    "graph.add_node(\"Ingest\", ingest_agent)\n",
    "graph.add_node(\"EDA\", eda_agent)\n",
    "graph.add_node(\"Train\", train_agent)\n",
    "graph.add_node(\"Predict\", predict_agent)\n",
    "graph.add_node(\"Evaluate\", evaluation_agent)\n",
    "graph.add_node(\"Improve\", improver_agent)\n",
    "graph.add_node(\"Exit\", exit_agent)\n",
    "\n",
    "\n",
    "#graph.add_edge(START, \"Ingest\")\n",
    "graph.add_edge(\"Ingest\", \"EDA\")\n",
    "graph.add_edge(\"EDA\", \"Train\")\n",
    "graph.add_edge(\"Train\", \"Predict\")\n",
    "graph.add_edge(\"Predict\", \"Evaluate\")\n",
    "graph.add_edge(\"Evaluate\", \"Improve\")\n",
    "\n",
    "def should_loop(state: AgentState) -> str:\n",
    "    if state.get(\"retrain\", False):\n",
    "        return \"retrain\"\n",
    "    return \"Exit\"  # Changed from \"done\" to \"exit\"\n",
    "\n",
    "\n",
    "graph.add_conditional_edges(\n",
    "    \"Improve\",\n",
    "    should_loop,\n",
    "    {\n",
    "        \"retrain\": \"Train\",\n",
    "        \"done\": \"Exit\",  # Corrected this line\n",
    "    },\n",
    ")\n",
    "\n",
    "graph.set_entry_point(\"Ingest\")\n",
    "graph.set_finish_point(\"Exit\")\n",
    "pipeline = graph.compile()"
   ]
  },
  {
   "cell_type": "code",
   "execution_count": null,
   "id": "d45bd98b",
   "metadata": {},
   "outputs": [],
   "source": [
    "final_state = pipeline.invoke(initial_state)\n",
    "\n",
    "# Visualize the graph\n",
    "#try block is initiated to attempt to execute some code that might raise an exception.\n",
    "#Inside the try block, the display function is called with an Image object as its argument.\n",
    "#The Image object is created with a PNG image generated by the draw_mermaid_png method of the get_graph method of graph.\n",
    "\n",
    "from IPython.display import Image, display\n",
    "try:\n",
    "    display(Image(pipeline.get_graph().draw_mermaid_png()))\n",
    "except Exception:\n",
    "    pass"
   ]
  }
 ],
 "metadata": {
  "kernelspec": {
   "display_name": "venv",
   "language": "python",
   "name": "venv"
  },
  "language_info": {
   "codemirror_mode": {
    "name": "ipython",
    "version": 3
   },
   "file_extension": ".py",
   "mimetype": "text/x-python",
   "name": "python",
   "nbconvert_exporter": "python",
   "pygments_lexer": "ipython3",
   "version": "3.13.3"
  }
 },
 "nbformat": 4,
 "nbformat_minor": 5
}
