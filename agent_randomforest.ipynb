{
 "cells": [
  {
   "cell_type": "markdown",
   "id": "22cd064d",
   "metadata": {},
   "source": [
    "## Financial Fraud Detection Agentic Ai\n",
    "\n",
    "\n",
    "* This code is a part of a machine learning pipeline that processes a dataset, performs exploratory data analysis (EDA), trains a decision tree classifier, makes predictions, evaluates the model, and suggests improvements if necessary.\n",
    "\n",
    "* It uses the LangGraph library to define a state graph for the pipeline, with each step represented as a node in the graph.\n",
    "* The pipeline starts by ingesting a dataset, followed by EDA, training the model, making predictions, evaluating the model's performance, and finally checking if retraining is needed based on the accuracy of the model.\n",
    "* The final state of the pipeline is returned after invoking the pipeline with the initial state."
   ]
  },
  {
   "cell_type": "code",
   "execution_count": 2,
   "id": "4ac3b3da",
   "metadata": {},
   "outputs": [],
   "source": [
    "from langgraph.graph import StateGraph, START\n",
    "import matplotlib.pyplot as plt\n",
    "import seaborn as sns\n",
    "from sklearn.model_selection import train_test_split\n",
    "from sklearn.metrics import confusion_matrix, classification_report\n",
    "import matplotlib.pyplot as plt\n",
    "import seaborn as sns\n",
    "import pandas as pd\n",
    "from sklearn.ensemble import RandomForestClassifier\n",
    "import json\n",
    "import numpy as np"
   ]
  },
  {
   "cell_type": "code",
   "execution_count": 3,
   "id": "7cf8b792",
   "metadata": {},
   "outputs": [],
   "source": [
    "from typing import TypedDict, Optional\n",
    "from langgraph.graph import StateGraph\n",
    "\n",
    "class AgentState(TypedDict, total=False):\n",
    "    filepath: str\n",
    "    df: pd.DataFrame\n",
    "    model: RandomForestClassifier\n",
    "    X_test: pd.DataFrame\n",
    "    y_test: pd.Series\n",
    "    predictions: list\n",
    "    report: dict\n",
    "    retrain: bool\n",
    "    loop_count: Optional[int]\n",
    "    eda_done : bool\n",
    "\n",
    "\n",
    "graph = StateGraph(AgentState)"
   ]
  },
  {
   "cell_type": "code",
   "execution_count": 4,
   "id": "223aeacf",
   "metadata": {},
   "outputs": [],
   "source": [
    "#Initial State\n",
    "initial_state = {\n",
    "    \"filepath\": \"PS_20174392719_1491204439457_log.csv\"  # Change this to your dataset path\n",
    "}"
   ]
  },
  {
   "cell_type": "markdown",
   "id": "737d2fa0",
   "metadata": {},
   "source": [
    "### 1. Ingestion Agent"
   ]
  },
  {
   "cell_type": "code",
   "execution_count": 5,
   "id": "7ad149c1",
   "metadata": {},
   "outputs": [],
   "source": [
    "def ingest_agent(state: AgentState):\n",
    "    df = pd.read_csv(state[\"filepath\"])\n",
    "    state[\"df\"] = df\n",
    "    return state"
   ]
  },
  {
   "cell_type": "markdown",
   "id": "8d859cbe",
   "metadata": {},
   "source": [
    "### 2. EDA Agent"
   ]
  },
  {
   "cell_type": "code",
   "execution_count": 6,
   "id": "d69e811b",
   "metadata": {},
   "outputs": [],
   "source": [
    "def eda_agent(state: AgentState):\n",
    "    df = state[\"df\"]\n",
    "    #plt.figure(figsize=(6,6))\n",
    "    #type_counts = df['type'].value_counts()\n",
    "    #plt.pie(type_counts, labels=type_counts.index, autopct='%1.1f%%')\n",
    "    #plt.title(\"Transaction Type Distribution\")\n",
    "    #plt.show()\n",
    "\n",
    "    plt.figure(figsize=(6,6))\n",
    "    is_fraud_counts = df['isFraud'].value_counts()\n",
    "    labels = [f\"{'Non-Fraud' if label == 0 else 'Fraud'} ({count})\" for label, count in is_fraud_counts.items()]\n",
    "    plt.pie(is_fraud_counts, labels=labels, autopct='%1.1f%%')\n",
    "    plt.title(\"Fraudulent Transaction Distribution\")\n",
    "    plt.show()\n",
    "\n",
    "    state[\"eda_done\"] = True\n",
    "    return state"
   ]
  },
  {
   "cell_type": "markdown",
   "id": "45a25d43",
   "metadata": {},
   "source": [
    "### 3. Model trainer Agent"
   ]
  },
  {
   "cell_type": "code",
   "execution_count": 7,
   "id": "d4a5ae3e",
   "metadata": {},
   "outputs": [],
   "source": [
    "from sklearn.model_selection import GridSearchCV, RandomizedSearchCV\n",
    "from sklearn.metrics import precision_score, recall_score, f1_score, roc_auc_score\n",
    "import numpy as np"
   ]
  },
  {
   "cell_type": "code",
   "execution_count": 8,
   "id": "016a7990",
   "metadata": {},
   "outputs": [],
   "source": [
    "def train_agent(state: AgentState):\n",
    "    df = state[\"df\"].copy()\n",
    "    df[\"isFraud\"] = df[\"isFraud\"].astype(int)\n",
    "    X = df[[\"amount\", \"oldbalanceOrg\", \"newbalanceOrig\", \"oldbalanceDest\", \"newbalanceDest\"]]\n",
    "    y = df[\"isFraud\"]\n",
    "    X_train, X_test, y_train, y_test = train_test_split(X, y, test_size=0.25, random_state=42)\n",
    "\n",
    "    # Define a smaller parameter grid\n",
    "    param_grid = {\n",
    "        'n_estimators': [100, 200],\n",
    "        'max_depth': [10],\n",
    "        'min_samples_split': [2, 5],\n",
    "        'min_samples_leaf': [1, 2]\n",
    "    }\n",
    "\n",
    "    # Create a Decision Tree Classifier\n",
    "    model = RandomForestClassifier( class_weight='balanced', random_state=42, n_estimators=50, max_features='sqrt', n_jobs=-1)\n",
    "\n",
    "    # Use RandomizedSearchCV to find the best hyperparameters\n",
    "    random_search = RandomizedSearchCV(model, param_grid, cv=2, scoring='f1', n_iter=3, random_state = 42)  # Reduced cv and n_iter\n",
    "    random_search.fit(X_train, y_train)\n",
    "\n",
    "    # Get the best estimator\n",
    "    best_clf = random_search.best_estimator_\n",
    "\n",
    "    state.update({\n",
    "        \"model\": best_clf,\n",
    "        \"X_test\": X_test,\n",
    "        \"y_test\": y_test,\n",
    "        \"trained\": True\n",
    "    })\n",
    "\n",
    "    print(\"Model trained successfully.\")\n",
    "    return state"
   ]
  },
  {
   "cell_type": "markdown",
   "id": "9da6dc43",
   "metadata": {},
   "source": [
    "### 4. Predictor Agent"
   ]
  },
  {
   "cell_type": "code",
   "execution_count": 9,
   "id": "a0600b19",
   "metadata": {},
   "outputs": [],
   "source": [
    "def predict_agent(state: AgentState):\n",
    "    clf = state[\"model\"]\n",
    "    X_test = state[\"X_test\"]\n",
    "\n",
    "    # Step 1: Get fraud probabilities (class 1)\n",
    "    y_probs = clf.predict_proba(X_test)[:, 1]\n",
    "\n",
    "    # Step 2: Apply custom threshold (e.g., 0.3)\n",
    "    predictions = (y_probs > 0.3).astype(int)\n",
    "\n",
    "    state[\"predictions\"] = predictions\n",
    "    print(\"Predictions made successfully.\")\n",
    "    return state"
   ]
  },
  {
   "cell_type": "markdown",
   "id": "34c6fafb",
   "metadata": {},
   "source": [
    "### 5. Evaluator Agent"
   ]
  },
  {
   "cell_type": "code",
   "execution_count": 10,
   "id": "0ff1fbf0",
   "metadata": {},
   "outputs": [],
   "source": [
    "def evaluation_agent(state: AgentState):\n",
    "    y_true = state[\"y_test\"]\n",
    "    y_pred = state[\"predictions\"]\n",
    "\n",
    "    # Calculate confusion matrix\n",
    "    cm = confusion_matrix(y_true, y_pred)\n",
    "    cm_df = pd.DataFrame(cm, \n",
    "                        index=[\"Actual non-fraud\", \"Actual fraud\"], \n",
    "                        columns=[\"Predicted non-fraud\", \"Predicted fraud\"])\n",
    "\n",
    "    # Get detailed classification report\n",
    "    report = classification_report(y_true, y_pred, output_dict=True)\n",
    "\n",
    "    # Calculate core metrics\n",
    "    precision = precision_score(y_true, y_pred)\n",
    "    recall = recall_score(y_true, y_pred)\n",
    "    f1 = f1_score(y_true, y_pred)\n",
    "    auc = roc_auc_score(y_true, y_pred)\n",
    "\n",
    "    # Create metrics dictionary\n",
    "    metrics = {\n",
    "        'model_type': 'random_forest',\n",
    "        'timestamp': pd.Timestamp.now().strftime(\"%Y-%m-%d %H:%M:%S\"),\n",
    "        'performance_metrics': {\n",
    "            'accuracy': float(report[\"accuracy\"]),\n",
    "            'precision': float(precision),\n",
    "            'recall': float(recall),\n",
    "            'f1': float(f1),\n",
    "            'auc': float(auc)\n",
    "        },\n",
    "        'cross_validation': {\n",
    "            'cv_scores_mean': float(state.get('cv_scores', []).mean()),\n",
    "            'cv_scores_std': float(state.get('cv_scores', []).std())\n",
    "        },\n",
    "        'class_metrics': {\n",
    "            'fraud': report['1'],\n",
    "            'non_fraud': report['0']\n",
    "        },\n",
    "        'confusion_matrix': {\n",
    "            'true_negatives': int(cm[0][0]),\n",
    "            'false_positives': int(cm[0][1]),\n",
    "            'false_negatives': int(cm[1][0]),\n",
    "            'true_positives': int(cm[1][1])\n",
    "        },\n",
    "        'model_params': state.get('best_params', {})\n",
    "    }\n",
    "\n",
    "    # Visualize confusion matrix\n",
    "    plt.figure(figsize=(6,5))\n",
    "    sns.heatmap(cm_df, annot=True, fmt='d', cmap='Blues')\n",
    "    plt.title(\"Confusion Matrix\")\n",
    "    plt.xlabel(\"Predicted\")\n",
    "    plt.ylabel(\"Actual\")\n",
    "    \n",
    "    # Save plot\n",
    "    plt.savefig(\"confusion_matrix_rf.png\")\n",
    "    plt.show()\n",
    "\n",
    "    # Display metrics in tabular format\n",
    "    metrics_df = pd.DataFrame({\n",
    "        'Metric': ['Accuracy', 'Precision', 'Recall', 'F1-score', 'AUC'],\n",
    "        'Score': [\n",
    "            report[\"accuracy\"],\n",
    "            precision,\n",
    "            recall,\n",
    "            f1,\n",
    "            auc\n",
    "        ]\n",
    "    })\n",
    "    print(\"\\nModel Performance Metrics:\")\n",
    "    print(\"========================\")\n",
    "    print(metrics_df.to_string(index=False))\n",
    "\n",
    "    # Save metrics to JSON with proper formatting\n",
    "    with open('metrics_optimized_rf.json', 'w') as f:\n",
    "        json.dump(metrics, f, indent=4, sort_keys=True)\n",
    "\n",
    "    # Update state with metrics\n",
    "    state.update({\n",
    "        \"metrics\": metrics,\n",
    "        \"confusion_matrix\": cm_df,\n",
    "        \"report\": report\n",
    "    })\n",
    "\n",
    "    return state"
   ]
  },
  {
   "cell_type": "markdown",
   "id": "186b27c5",
   "metadata": {},
   "source": [
    "### 6. Improver Agent"
   ]
  },
  {
   "cell_type": "code",
   "execution_count": 11,
   "id": "bcb431b9",
   "metadata": {},
   "outputs": [],
   "source": [
    "def improver_agent(state: AgentState):\n",
    "    acc = state[\"report\"][\"accuracy\"]\n",
    "    loop_count = state.get(\"loop_count\", 0)\n",
    "    \n",
    "    if acc < 0.9999 and loop_count < 2:\n",
    "        print(\"Retraining suggested due to accuracy below 99.99%\")\n",
    "        state[\"retrain\"] = True\n",
    "        state[\"loop_count\"] = loop_count + 1\n",
    "    else:\n",
    "        print(\"Model training complete - either accuracy is satisfactory or max retraining reached\")\n",
    "        state[\"retrain\"] = False\n",
    "    return state"
   ]
  },
  {
   "cell_type": "code",
   "execution_count": 12,
   "id": "9f6c0f28",
   "metadata": {},
   "outputs": [],
   "source": [
    "def exit_agent(state: AgentState):\n",
    "    print(\"Pipeline complete\")\n",
    "    return state"
   ]
  },
  {
   "cell_type": "code",
   "execution_count": 13,
   "id": "f6e38b99",
   "metadata": {},
   "outputs": [
    {
     "data": {
      "image/png": "[encoded data removed]",
      "text/plain": [
       "<IPython.core.display.Image object>"
      ]
     },
     "metadata": {},
     "output_type": "display_data"
    }
   ],
   "source": [
    "graph = StateGraph(AgentState)\n",
    "graph.add_node(\"Ingest\", ingest_agent)\n",
    "graph.add_node(\"EDA\", eda_agent)\n",
    "graph.add_node(\"Train\", train_agent)\n",
    "graph.add_node(\"Predict\", predict_agent)\n",
    "graph.add_node(\"Evaluate\", evaluation_agent)\n",
    "graph.add_node(\"Improve\", improver_agent)\n",
    "graph.add_node(\"Exit\", exit_agent)\n",
    "\n",
    "\n",
    "#graph.add_edge(START, \"Ingest\")\n",
    "graph.add_edge(\"Ingest\", \"EDA\")\n",
    "graph.add_edge(\"EDA\", \"Train\")\n",
    "graph.add_edge(\"Train\", \"Predict\")\n",
    "graph.add_edge(\"Predict\", \"Evaluate\")\n",
    "graph.add_edge(\"Evaluate\", \"Improve\")\n",
    "\n",
    "def should_loop(state: AgentState) -> str:\n",
    "    if state.get(\"retrain\", False):\n",
    "        return \"retrain\"\n",
    "    return \"Exit\"  # Changed from \"done\" to \"exit\"\n",
    "\n",
    "\n",
    "graph.add_conditional_edges(\n",
    "    \"Improve\",\n",
    "    should_loop,\n",
    "    {\n",
    "        \"retrain\": \"Train\",\n",
    "        \"done\": \"Exit\",  # Corrected this line\n",
    "    },\n",
    ")\n",
    "\n",
    "graph.set_entry_point(\"Ingest\")\n",
    "graph.set_finish_point(\"Exit\")\n",
    "pipeline = graph.compile()\n",
    "\n",
    "# Visualize the graph\n",
    "#try block is initiated to attempt to execute some code that might raise an exception.\n",
    "#Inside the try block, the display function is called with an Image object as its argument.\n",
    "#The Image object is created with a PNG image generated by the draw_mermaid_png method of the get_graph method of graph.\n",
    "\n",
    "from IPython.display import Image, display\n",
    "try:\n",
    "    display(Image(pipeline.get_graph().draw_mermaid_png()))\n",
    "except Exception:\n",
    "    pass"
   ]
  },
  {
   "cell_type": "code",
   "execution_count": 14,
   "id": "0ecbf938",
   "metadata": {},
   "outputs": [
    {
     "data": {
      "image/png": "[encoded data removed]",
      "text/plain": [
       "<Figure size 600x600 with 1 Axes>"
      ]
     },
     "metadata": {},
     "output_type": "display_data"
    },
    {
     "name": "stdout",
     "output_type": "stream",
     "text": [
      "Model trained successfully.\n",
      "Predictions made successfully.\n"
     ]
    },
    {
     "ename": "AttributeError",
     "evalue": "'list' object has no attribute 'mean'",
     "output_type": "error",
     "traceback": [
      "\u001b[31m---------------------------------------------------------------------------\u001b[39m",
      "\u001b[31mAttributeError\u001b[39m                            Traceback (most recent call last)",
      "\u001b[36mCell\u001b[39m\u001b[36m \u001b[39m\u001b[32mIn[14]\u001b[39m\u001b[32m, line 1\u001b[39m\n\u001b[32m----> \u001b[39m\u001b[32m1\u001b[39m final_state = \u001b[43mpipeline\u001b[49m\u001b[43m.\u001b[49m\u001b[43minvoke\u001b[49m\u001b[43m(\u001b[49m\u001b[43minitial_state\u001b[49m\u001b[43m)\u001b[49m\n",
      "\u001b[36mFile \u001b[39m\u001b[32m/Library/Frameworks/Python.framework/Versions/3.13/lib/python3.13/site-packages/langgraph/pregel/__init__.py:2719\u001b[39m, in \u001b[36mPregel.invoke\u001b[39m\u001b[34m(self, input, config, stream_mode, output_keys, interrupt_before, interrupt_after, checkpoint_during, debug, **kwargs)\u001b[39m\n\u001b[32m   2716\u001b[39m chunks: \u001b[38;5;28mlist\u001b[39m[Union[\u001b[38;5;28mdict\u001b[39m[\u001b[38;5;28mstr\u001b[39m, Any], Any]] = []\n\u001b[32m   2717\u001b[39m interrupts: \u001b[38;5;28mlist\u001b[39m[Interrupt] = []\n\u001b[32m-> \u001b[39m\u001b[32m2719\u001b[39m \u001b[43m\u001b[49m\u001b[38;5;28;43;01mfor\u001b[39;49;00m\u001b[43m \u001b[49m\u001b[43mchunk\u001b[49m\u001b[43m \u001b[49m\u001b[38;5;129;43;01min\u001b[39;49;00m\u001b[43m \u001b[49m\u001b[38;5;28;43mself\u001b[39;49m\u001b[43m.\u001b[49m\u001b[43mstream\u001b[49m\u001b[43m(\u001b[49m\n\u001b[32m   2720\u001b[39m \u001b[43m    \u001b[49m\u001b[38;5;28;43minput\u001b[39;49m\u001b[43m,\u001b[49m\n\u001b[32m   2721\u001b[39m \u001b[43m    \u001b[49m\u001b[43mconfig\u001b[49m\u001b[43m,\u001b[49m\n\u001b[32m   2722\u001b[39m \u001b[43m    \u001b[49m\u001b[43mstream_mode\u001b[49m\u001b[43m=\u001b[49m\u001b[43mstream_mode\u001b[49m\u001b[43m,\u001b[49m\n\u001b[32m   2723\u001b[39m \u001b[43m    \u001b[49m\u001b[43moutput_keys\u001b[49m\u001b[43m=\u001b[49m\u001b[43moutput_keys\u001b[49m\u001b[43m,\u001b[49m\n\u001b[32m   2724\u001b[39m \u001b[43m    \u001b[49m\u001b[43minterrupt_before\u001b[49m\u001b[43m=\u001b[49m\u001b[43minterrupt_before\u001b[49m\u001b[43m,\u001b[49m\n\u001b[32m   2725\u001b[39m \u001b[43m    \u001b[49m\u001b[43minterrupt_after\u001b[49m\u001b[43m=\u001b[49m\u001b[43minterrupt_after\u001b[49m\u001b[43m,\u001b[49m\n\u001b[32m   2726\u001b[39m \u001b[43m    \u001b[49m\u001b[43mcheckpoint_during\u001b[49m\u001b[43m=\u001b[49m\u001b[43mcheckpoint_during\u001b[49m\u001b[43m,\u001b[49m\n\u001b[32m   2727\u001b[39m \u001b[43m    \u001b[49m\u001b[43mdebug\u001b[49m\u001b[43m=\u001b[49m\u001b[43mdebug\u001b[49m\u001b[43m,\u001b[49m\n\u001b[32m   2728\u001b[39m \u001b[43m    \u001b[49m\u001b[43m*\u001b[49m\u001b[43m*\u001b[49m\u001b[43mkwargs\u001b[49m\u001b[43m,\u001b[49m\n\u001b[32m   2729\u001b[39m \u001b[43m\u001b[49m\u001b[43m)\u001b[49m\u001b[43m:\u001b[49m\n\u001b[32m   2730\u001b[39m \u001b[43m    \u001b[49m\u001b[38;5;28;43;01mif\u001b[39;49;00m\u001b[43m \u001b[49m\u001b[43mstream_mode\u001b[49m\u001b[43m \u001b[49m\u001b[43m==\u001b[49m\u001b[43m \u001b[49m\u001b[33;43m\"\u001b[39;49m\u001b[33;43mvalues\u001b[39;49m\u001b[33;43m\"\u001b[39;49m\u001b[43m:\u001b[49m\n\u001b[32m   2731\u001b[39m \u001b[43m        \u001b[49m\u001b[38;5;28;43;01mif\u001b[39;49;00m\u001b[43m \u001b[49m\u001b[43m(\u001b[49m\n\u001b[32m   2732\u001b[39m \u001b[43m            \u001b[49m\u001b[38;5;28;43misinstance\u001b[39;49m\u001b[43m(\u001b[49m\u001b[43mchunk\u001b[49m\u001b[43m,\u001b[49m\u001b[43m \u001b[49m\u001b[38;5;28;43mdict\u001b[39;49m\u001b[43m)\u001b[49m\n\u001b[32m   2733\u001b[39m \u001b[43m            \u001b[49m\u001b[38;5;129;43;01mand\u001b[39;49;00m\u001b[43m \u001b[49m\u001b[43m(\u001b[49m\u001b[43mints\u001b[49m\u001b[43m \u001b[49m\u001b[43m:=\u001b[49m\u001b[43m \u001b[49m\u001b[43mchunk\u001b[49m\u001b[43m.\u001b[49m\u001b[43mget\u001b[49m\u001b[43m(\u001b[49m\u001b[43mINTERRUPT\u001b[49m\u001b[43m)\u001b[49m\u001b[43m)\u001b[49m\u001b[43m \u001b[49m\u001b[38;5;129;43;01mis\u001b[39;49;00m\u001b[43m \u001b[49m\u001b[38;5;129;43;01mnot\u001b[39;49;00m\u001b[43m \u001b[49m\u001b[38;5;28;43;01mNone\u001b[39;49;00m\n\u001b[32m   2734\u001b[39m \u001b[43m        \u001b[49m\u001b[43m)\u001b[49m\u001b[43m:\u001b[49m\n",
      "\u001b[36mFile \u001b[39m\u001b[32m/Library/Frameworks/Python.framework/Versions/3.13/lib/python3.13/site-packages/langgraph/pregel/__init__.py:2436\u001b[39m, in \u001b[36mPregel.stream\u001b[39m\u001b[34m(self, input, config, stream_mode, output_keys, interrupt_before, interrupt_after, checkpoint_during, debug, subgraphs)\u001b[39m\n\u001b[32m   2434\u001b[39m         \u001b[38;5;28;01mfor\u001b[39;00m task \u001b[38;5;129;01min\u001b[39;00m loop.match_cached_writes():\n\u001b[32m   2435\u001b[39m             loop.output_writes(task.id, task.writes, cached=\u001b[38;5;28;01mTrue\u001b[39;00m)\n\u001b[32m-> \u001b[39m\u001b[32m2436\u001b[39m \u001b[43m        \u001b[49m\u001b[38;5;28;43;01mfor\u001b[39;49;00m\u001b[43m \u001b[49m\u001b[43m_\u001b[49m\u001b[43m \u001b[49m\u001b[38;5;129;43;01min\u001b[39;49;00m\u001b[43m \u001b[49m\u001b[43mrunner\u001b[49m\u001b[43m.\u001b[49m\u001b[43mtick\u001b[49m\u001b[43m(\u001b[49m\n\u001b[32m   2437\u001b[39m \u001b[43m            \u001b[49m\u001b[43m[\u001b[49m\u001b[43mt\u001b[49m\u001b[43m \u001b[49m\u001b[38;5;28;43;01mfor\u001b[39;49;00m\u001b[43m \u001b[49m\u001b[43mt\u001b[49m\u001b[43m \u001b[49m\u001b[38;5;129;43;01min\u001b[39;49;00m\u001b[43m \u001b[49m\u001b[43mloop\u001b[49m\u001b[43m.\u001b[49m\u001b[43mtasks\u001b[49m\u001b[43m.\u001b[49m\u001b[43mvalues\u001b[49m\u001b[43m(\u001b[49m\u001b[43m)\u001b[49m\u001b[43m \u001b[49m\u001b[38;5;28;43;01mif\u001b[39;49;00m\u001b[43m \u001b[49m\u001b[38;5;129;43;01mnot\u001b[39;49;00m\u001b[43m \u001b[49m\u001b[43mt\u001b[49m\u001b[43m.\u001b[49m\u001b[43mwrites\u001b[49m\u001b[43m]\u001b[49m\u001b[43m,\u001b[49m\n\u001b[32m   2438\u001b[39m \u001b[43m            \u001b[49m\u001b[43mtimeout\u001b[49m\u001b[43m=\u001b[49m\u001b[38;5;28;43mself\u001b[39;49m\u001b[43m.\u001b[49m\u001b[43mstep_timeout\u001b[49m\u001b[43m,\u001b[49m\n\u001b[32m   2439\u001b[39m \u001b[43m            \u001b[49m\u001b[43mget_waiter\u001b[49m\u001b[43m=\u001b[49m\u001b[43mget_waiter\u001b[49m\u001b[43m,\u001b[49m\n\u001b[32m   2440\u001b[39m \u001b[43m            \u001b[49m\u001b[43mschedule_task\u001b[49m\u001b[43m=\u001b[49m\u001b[43mloop\u001b[49m\u001b[43m.\u001b[49m\u001b[43maccept_push\u001b[49m\u001b[43m,\u001b[49m\n\u001b[32m   2441\u001b[39m \u001b[43m        \u001b[49m\u001b[43m)\u001b[49m\u001b[43m:\u001b[49m\n\u001b[32m   2442\u001b[39m \u001b[43m            \u001b[49m\u001b[38;5;66;43;03m# emit output\u001b[39;49;00m\n\u001b[32m   2443\u001b[39m \u001b[43m            \u001b[49m\u001b[38;5;28;43;01myield from\u001b[39;49;00m\u001b[43m \u001b[49m\u001b[43moutput\u001b[49m\u001b[43m(\u001b[49m\u001b[43m)\u001b[49m\n\u001b[32m   2444\u001b[39m \u001b[38;5;66;03m# emit output\u001b[39;00m\n",
      "\u001b[36mCell\u001b[39m\u001b[36m \u001b[39m\u001b[32mIn[10]\u001b[39m\u001b[32m, line 32\u001b[39m, in \u001b[36mevaluation_agent\u001b[39m\u001b[34m(state)\u001b[39m\n\u001b[32m     18\u001b[39m auc = roc_auc_score(y_true, y_pred)\n\u001b[32m     20\u001b[39m \u001b[38;5;66;03m# Create metrics dictionary\u001b[39;00m\n\u001b[32m     21\u001b[39m metrics = {\n\u001b[32m     22\u001b[39m     \u001b[33m'\u001b[39m\u001b[33mmodel_type\u001b[39m\u001b[33m'\u001b[39m: \u001b[33m'\u001b[39m\u001b[33mrandom_forest\u001b[39m\u001b[33m'\u001b[39m,\n\u001b[32m     23\u001b[39m     \u001b[33m'\u001b[39m\u001b[33mtimestamp\u001b[39m\u001b[33m'\u001b[39m: pd.Timestamp.now().strftime(\u001b[33m\"\u001b[39m\u001b[33m%\u001b[39m\u001b[33mY-\u001b[39m\u001b[33m%\u001b[39m\u001b[33mm-\u001b[39m\u001b[38;5;132;01m%d\u001b[39;00m\u001b[33m \u001b[39m\u001b[33m%\u001b[39m\u001b[33mH:\u001b[39m\u001b[33m%\u001b[39m\u001b[33mM:\u001b[39m\u001b[33m%\u001b[39m\u001b[33mS\u001b[39m\u001b[33m\"\u001b[39m),\n\u001b[32m     24\u001b[39m     \u001b[33m'\u001b[39m\u001b[33mperformance_metrics\u001b[39m\u001b[33m'\u001b[39m: {\n\u001b[32m     25\u001b[39m         \u001b[33m'\u001b[39m\u001b[33maccuracy\u001b[39m\u001b[33m'\u001b[39m: \u001b[38;5;28mfloat\u001b[39m(report[\u001b[33m\"\u001b[39m\u001b[33maccuracy\u001b[39m\u001b[33m\"\u001b[39m]),\n\u001b[32m     26\u001b[39m         \u001b[33m'\u001b[39m\u001b[33mprecision\u001b[39m\u001b[33m'\u001b[39m: \u001b[38;5;28mfloat\u001b[39m(precision),\n\u001b[32m     27\u001b[39m         \u001b[33m'\u001b[39m\u001b[33mrecall\u001b[39m\u001b[33m'\u001b[39m: \u001b[38;5;28mfloat\u001b[39m(recall),\n\u001b[32m     28\u001b[39m         \u001b[33m'\u001b[39m\u001b[33mf1\u001b[39m\u001b[33m'\u001b[39m: \u001b[38;5;28mfloat\u001b[39m(f1),\n\u001b[32m     29\u001b[39m         \u001b[33m'\u001b[39m\u001b[33mauc\u001b[39m\u001b[33m'\u001b[39m: \u001b[38;5;28mfloat\u001b[39m(auc)\n\u001b[32m     30\u001b[39m     },\n\u001b[32m     31\u001b[39m     \u001b[33m'\u001b[39m\u001b[33mcross_validation\u001b[39m\u001b[33m'\u001b[39m: {\n\u001b[32m---> \u001b[39m\u001b[32m32\u001b[39m         \u001b[33m'\u001b[39m\u001b[33mcv_scores_mean\u001b[39m\u001b[33m'\u001b[39m: \u001b[38;5;28mfloat\u001b[39m(\u001b[43mstate\u001b[49m\u001b[43m.\u001b[49m\u001b[43mget\u001b[49m\u001b[43m(\u001b[49m\u001b[33;43m'\u001b[39;49m\u001b[33;43mcv_scores\u001b[39;49m\u001b[33;43m'\u001b[39;49m\u001b[43m,\u001b[49m\u001b[43m \u001b[49m\u001b[43m[\u001b[49m\u001b[43m]\u001b[49m\u001b[43m)\u001b[49m\u001b[43m.\u001b[49m\u001b[43mmean\u001b[49m()),\n\u001b[32m     33\u001b[39m         \u001b[33m'\u001b[39m\u001b[33mcv_scores_std\u001b[39m\u001b[33m'\u001b[39m: \u001b[38;5;28mfloat\u001b[39m(state.get(\u001b[33m'\u001b[39m\u001b[33mcv_scores\u001b[39m\u001b[33m'\u001b[39m, []).std())\n\u001b[32m     34\u001b[39m     },\n\u001b[32m     35\u001b[39m     \u001b[33m'\u001b[39m\u001b[33mclass_metrics\u001b[39m\u001b[33m'\u001b[39m: {\n\u001b[32m     36\u001b[39m         \u001b[33m'\u001b[39m\u001b[33mfraud\u001b[39m\u001b[33m'\u001b[39m: report[\u001b[33m'\u001b[39m\u001b[33m1\u001b[39m\u001b[33m'\u001b[39m],\n\u001b[32m     37\u001b[39m         \u001b[33m'\u001b[39m\u001b[33mnon_fraud\u001b[39m\u001b[33m'\u001b[39m: report[\u001b[33m'\u001b[39m\u001b[33m0\u001b[39m\u001b[33m'\u001b[39m]\n\u001b[32m     38\u001b[39m     },\n\u001b[32m     39\u001b[39m     \u001b[33m'\u001b[39m\u001b[33mconfusion_matrix\u001b[39m\u001b[33m'\u001b[39m: {\n\u001b[32m     40\u001b[39m         \u001b[33m'\u001b[39m\u001b[33mtrue_negatives\u001b[39m\u001b[33m'\u001b[39m: \u001b[38;5;28mint\u001b[39m(cm[\u001b[32m0\u001b[39m][\u001b[32m0\u001b[39m]),\n\u001b[32m     41\u001b[39m         \u001b[33m'\u001b[39m\u001b[33mfalse_positives\u001b[39m\u001b[33m'\u001b[39m: \u001b[38;5;28mint\u001b[39m(cm[\u001b[32m0\u001b[39m][\u001b[32m1\u001b[39m]),\n\u001b[32m     42\u001b[39m         \u001b[33m'\u001b[39m\u001b[33mfalse_negatives\u001b[39m\u001b[33m'\u001b[39m: \u001b[38;5;28mint\u001b[39m(cm[\u001b[32m1\u001b[39m][\u001b[32m0\u001b[39m]),\n\u001b[32m     43\u001b[39m         \u001b[33m'\u001b[39m\u001b[33mtrue_positives\u001b[39m\u001b[33m'\u001b[39m: \u001b[38;5;28mint\u001b[39m(cm[\u001b[32m1\u001b[39m][\u001b[32m1\u001b[39m])\n\u001b[32m     44\u001b[39m     },\n\u001b[32m     45\u001b[39m     \u001b[33m'\u001b[39m\u001b[33mmodel_params\u001b[39m\u001b[33m'\u001b[39m: state.get(\u001b[33m'\u001b[39m\u001b[33mbest_params\u001b[39m\u001b[33m'\u001b[39m, {})\n\u001b[32m     46\u001b[39m }\n\u001b[32m     48\u001b[39m \u001b[38;5;66;03m# Visualize confusion matrix\u001b[39;00m\n\u001b[32m     49\u001b[39m plt.figure(figsize=(\u001b[32m6\u001b[39m,\u001b[32m5\u001b[39m))\n",
      "\u001b[31mAttributeError\u001b[39m: 'list' object has no attribute 'mean'",
      "During task with name 'Evaluate' and id '17d4cb9f-4500-2d64-f847-3486ba88cf89'"
     ]
    }
   ],
   "source": [
    "final_state = pipeline.invoke(initial_state)"
   ]
  },
  {
   "cell_type": "code",
   "execution_count": null,
   "id": "fa4228f3",
   "metadata": {},
   "outputs": [],
   "source": [
    "import json\n",
    "\n",
    "# Extract metrics from the final_state dictionary\n",
    "metrics = final_state[\"metrics\"]\n",
    "\n",
    "with open(f'metrics_{metrics['model_type']}.json', 'w') as f:\n",
    "    json.dump(metrics, f, indent=4)"
   ]
  }
 ],
 "metadata": {
  "kernelspec": {
   "display_name": "venv",
   "language": "python",
   "name": "venv"
  },
  "language_info": {
   "codemirror_mode": {
    "name": "ipython",
    "version": 3
   },
   "file_extension": ".py",
   "mimetype": "text/x-python",
   "name": "python",
   "nbconvert_exporter": "python",
   "pygments_lexer": "ipython3",
   "version": "3.13.3"
  }
 },
 "nbformat": 4,
 "nbformat_minor": 5
}
