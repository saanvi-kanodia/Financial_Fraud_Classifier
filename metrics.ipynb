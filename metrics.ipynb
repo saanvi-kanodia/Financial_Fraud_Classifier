{
 "cells": [
  {
   "cell_type": "code",
   "execution_count": null,
   "id": "52e29c43",
   "metadata": {},
   "outputs": [],
   "source": [
    "import pandas as pd\n",
    "import json\n",
    "from pathlib import Path\n",
    "\n",
    "def load_metrics(model_name):\n",
    "    file_path = Path(f'metrics_{model_name}.json')\n",
    "    if file_path.exists():\n",
    "        with open(file_path, 'r') as f:\n",
    "            return json.load(f)\n",
    "    return None\n",
    "\n",
    "def create_comparison_table():\n",
    "    models = ['dtree', 'randomforest', 'optimized_rf']\n",
    "    metrics_data = {}\n",
    "    \n",
    "    for model in models:\n",
    "        metrics = load_metrics(model)\n",
    "        if metrics:\n",
    "            metrics_data[model] = metrics\n",
    "    \n",
    "    df = pd.DataFrame(metrics_data).round(4)\n",
    "    \n",
    "    # Save comparison as markdown\n",
    "    with open('model_comparison.md', 'w') as f:\n",
    "        f.write(\"# Model Performance Comparison\\n\\n\")\n",
    "        f.write(df.to_markdown())\n",
    "        \n",
    "    print(\"Comparison table saved to model_comparison.md\")\n",
    "    return df\n",
    "\n",
    "if __name__ == \"__main__\":\n",
    "    comparison_df = create_comparison_table()\n",
    "    print(\"\\nModel Comparison:\")\n",
    "    print(comparison_df)"
   ]
  }
 ],
 "metadata": {
  "language_info": {
   "name": "python"
  }
 },
 "nbformat": 4,
 "nbformat_minor": 5
}
